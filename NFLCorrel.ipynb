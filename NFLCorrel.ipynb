{
 "cells": [
  {
   "cell_type": "markdown",
   "metadata": {},
   "source": [
    "# NFLCorrel Model"
   ]
  },
  {
   "cell_type": "code",
   "execution_count": 1,
   "metadata": {
    "collapsed": true
   },
   "outputs": [],
   "source": [
    "import numpy as np\n",
    "import pandas as pd\n",
    "import pymc3 as pm\n",
    "import theano.tensor as tt\n",
    "%matplotlib inline"
   ]
  },
  {
   "cell_type": "markdown",
   "metadata": {},
   "source": [
    "## Data Preparation\n",
    "Data was previously compiled in notebook 1.0."
   ]
  },
  {
   "cell_type": "code",
   "execution_count": 2,
   "metadata": {
    "collapsed": false
   },
   "outputs": [
    {
     "data": {
      "text/html": [
       "<div>\n",
       "<table border=\"1\" class=\"dataframe\">\n",
       "  <thead>\n",
       "    <tr style=\"text-align: right;\">\n",
       "      <th></th>\n",
       "      <th>gsis_id</th>\n",
       "      <th>gamekey</th>\n",
       "      <th>start_time</th>\n",
       "      <th>week</th>\n",
       "      <th>season_year</th>\n",
       "      <th>season_type</th>\n",
       "      <th>finished</th>\n",
       "      <th>home_team</th>\n",
       "      <th>home_score</th>\n",
       "      <th>home_score_q5</th>\n",
       "      <th>...</th>\n",
       "      <th>away_receiving_yds</th>\n",
       "      <th>away_rushing_att</th>\n",
       "      <th>away_rushing_loss</th>\n",
       "      <th>away_rushing_tds</th>\n",
       "      <th>away_rushing_yds</th>\n",
       "      <th>home_passing_ypa</th>\n",
       "      <th>away_passing_ypa</th>\n",
       "      <th>home_rushing_ypa</th>\n",
       "      <th>away_rushing_ypa</th>\n",
       "      <th>neutral_site</th>\n",
       "    </tr>\n",
       "  </thead>\n",
       "  <tbody>\n",
       "    <tr>\n",
       "      <th>0</th>\n",
       "      <td>2014122106</td>\n",
       "      <td>56403</td>\n",
       "      <td>2014-12-21 18:00:00</td>\n",
       "      <td>16</td>\n",
       "      <td>2014</td>\n",
       "      <td>Regular</td>\n",
       "      <td>True</td>\n",
       "      <td>PIT</td>\n",
       "      <td>20</td>\n",
       "      <td>0</td>\n",
       "      <td>...</td>\n",
       "      <td>317.0</td>\n",
       "      <td>14.0</td>\n",
       "      <td>0.0</td>\n",
       "      <td>0.0</td>\n",
       "      <td>39.0</td>\n",
       "      <td>8.800000</td>\n",
       "      <td>6.891304</td>\n",
       "      <td>2.615385</td>\n",
       "      <td>2.785714</td>\n",
       "      <td>False</td>\n",
       "    </tr>\n",
       "    <tr>\n",
       "      <th>1</th>\n",
       "      <td>2015102500</td>\n",
       "      <td>56595</td>\n",
       "      <td>2015-10-25 13:30:00</td>\n",
       "      <td>7</td>\n",
       "      <td>2015</td>\n",
       "      <td>Regular</td>\n",
       "      <td>True</td>\n",
       "      <td>JAC</td>\n",
       "      <td>34</td>\n",
       "      <td>0</td>\n",
       "      <td>...</td>\n",
       "      <td>298.0</td>\n",
       "      <td>28.0</td>\n",
       "      <td>0.0</td>\n",
       "      <td>0.0</td>\n",
       "      <td>115.0</td>\n",
       "      <td>6.275862</td>\n",
       "      <td>7.095238</td>\n",
       "      <td>3.750000</td>\n",
       "      <td>4.107143</td>\n",
       "      <td>True</td>\n",
       "    </tr>\n",
       "    <tr>\n",
       "      <th>2</th>\n",
       "      <td>2014122107</td>\n",
       "      <td>56404</td>\n",
       "      <td>2014-12-21 18:00:00</td>\n",
       "      <td>16</td>\n",
       "      <td>2014</td>\n",
       "      <td>Regular</td>\n",
       "      <td>True</td>\n",
       "      <td>TB</td>\n",
       "      <td>3</td>\n",
       "      <td>0</td>\n",
       "      <td>...</td>\n",
       "      <td>318.0</td>\n",
       "      <td>31.0</td>\n",
       "      <td>0.0</td>\n",
       "      <td>1.0</td>\n",
       "      <td>121.0</td>\n",
       "      <td>5.653846</td>\n",
       "      <td>7.950000</td>\n",
       "      <td>1.142857</td>\n",
       "      <td>3.903226</td>\n",
       "      <td>False</td>\n",
       "    </tr>\n",
       "    <tr>\n",
       "      <th>3</th>\n",
       "      <td>2014122108</td>\n",
       "      <td>56405</td>\n",
       "      <td>2014-12-21 21:05:00</td>\n",
       "      <td>16</td>\n",
       "      <td>2014</td>\n",
       "      <td>Regular</td>\n",
       "      <td>True</td>\n",
       "      <td>STL</td>\n",
       "      <td>27</td>\n",
       "      <td>0</td>\n",
       "      <td>...</td>\n",
       "      <td>391.0</td>\n",
       "      <td>34.0</td>\n",
       "      <td>0.0</td>\n",
       "      <td>1.0</td>\n",
       "      <td>128.0</td>\n",
       "      <td>9.062500</td>\n",
       "      <td>12.218750</td>\n",
       "      <td>5.300000</td>\n",
       "      <td>3.764706</td>\n",
       "      <td>False</td>\n",
       "    </tr>\n",
       "    <tr>\n",
       "      <th>4</th>\n",
       "      <td>2014122109</td>\n",
       "      <td>56406</td>\n",
       "      <td>2014-12-21 21:25:00</td>\n",
       "      <td>16</td>\n",
       "      <td>2014</td>\n",
       "      <td>Regular</td>\n",
       "      <td>True</td>\n",
       "      <td>DAL</td>\n",
       "      <td>42</td>\n",
       "      <td>0</td>\n",
       "      <td>...</td>\n",
       "      <td>235.0</td>\n",
       "      <td>10.0</td>\n",
       "      <td>0.0</td>\n",
       "      <td>0.0</td>\n",
       "      <td>1.0</td>\n",
       "      <td>12.428571</td>\n",
       "      <td>5.340909</td>\n",
       "      <td>3.175000</td>\n",
       "      <td>0.100000</td>\n",
       "      <td>False</td>\n",
       "    </tr>\n",
       "  </tbody>\n",
       "</table>\n",
       "<p>5 rows × 60 columns</p>\n",
       "</div>"
      ],
      "text/plain": [
       "      gsis_id  gamekey           start_time  week  season_year season_type  \\\n",
       "0  2014122106    56403  2014-12-21 18:00:00    16         2014     Regular   \n",
       "1  2015102500    56595  2015-10-25 13:30:00     7         2015     Regular   \n",
       "2  2014122107    56404  2014-12-21 18:00:00    16         2014     Regular   \n",
       "3  2014122108    56405  2014-12-21 21:05:00    16         2014     Regular   \n",
       "4  2014122109    56406  2014-12-21 21:25:00    16         2014     Regular   \n",
       "\n",
       "  finished home_team  home_score  home_score_q5      ...       \\\n",
       "0     True       PIT          20              0      ...        \n",
       "1     True       JAC          34              0      ...        \n",
       "2     True        TB           3              0      ...        \n",
       "3     True       STL          27              0      ...        \n",
       "4     True       DAL          42              0      ...        \n",
       "\n",
       "  away_receiving_yds  away_rushing_att  away_rushing_loss  away_rushing_tds  \\\n",
       "0              317.0              14.0                0.0               0.0   \n",
       "1              298.0              28.0                0.0               0.0   \n",
       "2              318.0              31.0                0.0               1.0   \n",
       "3              391.0              34.0                0.0               1.0   \n",
       "4              235.0              10.0                0.0               0.0   \n",
       "\n",
       "   away_rushing_yds  home_passing_ypa  away_passing_ypa  home_rushing_ypa  \\\n",
       "0              39.0          8.800000          6.891304          2.615385   \n",
       "1             115.0          6.275862          7.095238          3.750000   \n",
       "2             121.0          5.653846          7.950000          1.142857   \n",
       "3             128.0          9.062500         12.218750          5.300000   \n",
       "4               1.0         12.428571          5.340909          3.175000   \n",
       "\n",
       "   away_rushing_ypa  neutral_site  \n",
       "0          2.785714         False  \n",
       "1          4.107143          True  \n",
       "2          3.903226         False  \n",
       "3          3.764706         False  \n",
       "4          0.100000         False  \n",
       "\n",
       "[5 rows x 60 columns]"
      ]
     },
     "execution_count": 2,
     "metadata": {},
     "output_type": "execute_result"
    }
   ],
   "source": [
    "boxscores = pd.read_csv('../data/boxscores2.csv')\n",
    "boxscores.head()"
   ]
  },
  {
   "cell_type": "code",
   "execution_count": 3,
   "metadata": {
    "collapsed": false
   },
   "outputs": [
    {
     "data": {
      "text/plain": [
       "Index(['gsis_id', 'gamekey', 'start_time', 'week', 'season_year',\n",
       "       'season_type', 'finished', 'home_team', 'home_score', 'home_score_q5',\n",
       "       'away_team', 'away_score', 'away_score_q5', 'home_defense_ffum',\n",
       "       'home_defense_frec', 'home_defense_int', 'home_defense_pass_def',\n",
       "       'home_defense_qbhit', 'home_defense_sk', 'home_defense_tkl_loss',\n",
       "       'home_fumbles_forced', 'home_fumbles_lost', 'home_fumbles_notforced',\n",
       "       'home_passing_att', 'home_passing_int', 'home_passing_sk',\n",
       "       'home_passing_tds', 'home_passing_yds', 'home_puntret_yds',\n",
       "       'home_receiving_yds', 'home_rushing_att', 'home_rushing_loss',\n",
       "       'home_rushing_tds', 'home_rushing_yds', 'away_defense_ffum',\n",
       "       'away_defense_frec', 'away_defense_int', 'away_defense_pass_def',\n",
       "       'away_defense_qbhit', 'away_defense_sk', 'away_defense_tkl_loss',\n",
       "       'away_fumbles_forced', 'away_fumbles_lost', 'away_fumbles_notforced',\n",
       "       'away_passing_att', 'away_passing_int', 'away_passing_sk',\n",
       "       'away_passing_tds', 'away_passing_yds', 'away_puntret_yds',\n",
       "       'away_receiving_yds', 'away_rushing_att', 'away_rushing_loss',\n",
       "       'away_rushing_tds', 'away_rushing_yds', 'home_passing_ypa',\n",
       "       'away_passing_ypa', 'home_rushing_ypa', 'away_rushing_ypa',\n",
       "       'neutral_site'],\n",
       "      dtype='object')"
      ]
     },
     "execution_count": 3,
     "metadata": {},
     "output_type": "execute_result"
    }
   ],
   "source": [
    "boxscores.columns"
   ]
  },
  {
   "cell_type": "markdown",
   "metadata": {},
   "source": [
    "### Data Description\n",
    "\n",
    "The following objects were created based on this data:\n",
    "\n",
    "- $team\\_home$ zero-indexed integer for home team\n",
    "- $team\\_away$ zero-indexed integer for away team\n",
    "- $season$ zero-indexed integer for season\n",
    "- $per\\_won_{home}$ Percent the home team won per the logistic regression"
   ]
  },
  {
   "cell_type": "code",
   "execution_count": 4,
   "metadata": {
    "collapsed": false,
    "scrolled": true
   },
   "outputs": [],
   "source": [
    "teams = boxscores['home_team'].unique()\n",
    "teams = pd.DataFrame(teams, columns=['team'])\n",
    "teams['i'] = teams.index\n",
    "num_teams = len(teams.team)\n",
    "\n",
    "boxscores = pd.merge(boxscores, teams, left_on='home_team', right_on='team', how='left')\n",
    "boxscores = boxscores.rename(columns = {'i': 'i_home'}).drop('team', 1)\n",
    "boxscores = pd.merge(boxscores, teams, left_on='away_team', right_on='team', how='left')\n",
    "boxscores = boxscores.rename(columns = {'i': 'i_away'}).drop('team', 1)\n",
    "\n",
    "team_home = boxscores.i_home.values\n",
    "team_away = boxscores.i_away.values\n",
    "\n",
    "seasons = boxscores['season_year'].unique()\n",
    "seasons = pd.DataFrame(seasons, columns=['season'])\n",
    "seasons.sort_values('season',inplace=True)\n",
    "seasons = pd.DataFrame(seasons.season.values, columns=['season']) # to reset index\n",
    "seasons['j'] = seasons.index\n",
    "num_seasons = len(seasons.season)\n",
    "\n",
    "boxscores = pd.merge(boxscores, seasons, left_on='season_year', right_on='season', how='left')\n",
    "boxscores = boxscores.rename(columns = {'j': 'j_season'}).drop('season', 1)\n",
    "\n",
    "season = boxscores.j_season.values"
   ]
  },
  {
   "cell_type": "markdown",
   "metadata": {},
   "source": [
    "For the moment, the following formula is used as a stand-in for home_perc_won. This will be replaced a better model in the future.\n",
    "\n",
    "$$(1/2) ( 1 + \\frac{WinnerPoints - LoserPoints}{WinnerPoints + LoserPoints} )$$"
   ]
  },
  {
   "cell_type": "code",
   "execution_count": 5,
   "metadata": {
    "collapsed": false
   },
   "outputs": [],
   "source": [
    "boxscores['home_perc_won'] = (boxscores['home_score'] - boxscores['away_score'])/(boxscores['home_score'] + boxscores['away_score'])\n",
    "boxscores['home_perc_won'] = (boxscores['home_perc_won'] + 1) / 2\n",
    "\n",
    "per_won_home = boxscores.home_perc_won\n",
    "\n",
    "num_games = len(per_won_home)"
   ]
  },
  {
   "cell_type": "markdown",
   "metadata": {},
   "source": [
    "## Building the Model\n",
    "### Model Description\n",
    "Objects in model.\n",
    "\n",
    "- $strength_{i,j}$ is a 2-d array describing team $i$ strength in year $j$\n",
    "    - Each element of $strength$ is normally distributed with (arbitrary) mean 500 and sd 150.\n",
    "- For each game, create performance $perf_{home}$ and $perf_{away}$ normally distributed with mean $strength_{i,j}$ and some standard deviation.\n",
    "    - How do we set the standard deviation of performance? I'm not sure. This parameter may need to be tuned.\n",
    "- For each game, the percent the home team won is a deterministic function: $per\\_won_{home} = perf_{home} / (perf_{home} + perf_{away})$"
   ]
  },
  {
   "cell_type": "code",
   "execution_count": 10,
   "metadata": {
    "collapsed": false
   },
   "outputs": [
    {
     "ename": "TypeError",
     "evalue": "'list' object is not callable",
     "output_type": "error",
     "traceback": [
      "\u001b[1;31m---------------------------------------------------------------------------\u001b[0m",
      "\u001b[1;31mTypeError\u001b[0m                                 Traceback (most recent call last)",
      "\u001b[1;32m<ipython-input-10-c8eaa724323c>\u001b[0m in \u001b[0;36m<module>\u001b[1;34m()\u001b[0m\n\u001b[0;32m     17\u001b[0m \u001b[1;33m\u001b[0m\u001b[0m\n\u001b[0;32m     18\u001b[0m     perf_home = pm.MvNormal('perf_home',\n\u001b[1;32m---> 19\u001b[1;33m                             \u001b[0mmu\u001b[0m\u001b[1;33m=\u001b[0m\u001b[0mpm\u001b[0m\u001b[1;33m.\u001b[0m\u001b[0mDensityDist\u001b[0m\u001b[1;33m(\u001b[0m\u001b[1;34m'home_mus'\u001b[0m\u001b[1;33m,\u001b[0m \u001b[0mget_mus\u001b[0m\u001b[1;33m(\u001b[0m\u001b[1;34m'home'\u001b[0m\u001b[1;33m)\u001b[0m\u001b[1;33m)\u001b[0m\u001b[1;33m,\u001b[0m\u001b[1;33m\u001b[0m\u001b[0m\n\u001b[0m\u001b[0;32m     20\u001b[0m                             \u001b[0mtau\u001b[0m\u001b[1;33m=\u001b[0m\u001b[1;33m(\u001b[0m\u001b[1;36m1\u001b[0m\u001b[1;33m/\u001b[0m\u001b[1;33m(\u001b[0m\u001b[1;36m150\u001b[0m\u001b[1;33m**\u001b[0m\u001b[1;36m2\u001b[0m\u001b[1;33m)\u001b[0m\u001b[1;33m)\u001b[0m\u001b[1;33m*\u001b[0m\u001b[0mnp\u001b[0m\u001b[1;33m.\u001b[0m\u001b[0meye\u001b[0m\u001b[1;33m(\u001b[0m\u001b[0mnum_games\u001b[0m\u001b[1;33m)\u001b[0m\u001b[1;33m,\u001b[0m\u001b[1;33m\u001b[0m\u001b[0m\n\u001b[0;32m     21\u001b[0m                             shape=num_games)\n",
      "\u001b[1;32m/home/daniel/anaconda3/lib/python3.5/site-packages/pymc3/distributions/distribution.py\u001b[0m in \u001b[0;36m__new__\u001b[1;34m(cls, name, *args, **kwargs)\u001b[0m\n\u001b[0;32m     25\u001b[0m             \u001b[0mdata\u001b[0m \u001b[1;33m=\u001b[0m \u001b[0mkwargs\u001b[0m\u001b[1;33m.\u001b[0m\u001b[0mpop\u001b[0m\u001b[1;33m(\u001b[0m\u001b[1;34m'observed'\u001b[0m\u001b[1;33m,\u001b[0m \u001b[1;32mNone\u001b[0m\u001b[1;33m)\u001b[0m\u001b[1;33m\u001b[0m\u001b[0m\n\u001b[0;32m     26\u001b[0m             \u001b[0mdist\u001b[0m \u001b[1;33m=\u001b[0m \u001b[0mcls\u001b[0m\u001b[1;33m.\u001b[0m\u001b[0mdist\u001b[0m\u001b[1;33m(\u001b[0m\u001b[1;33m*\u001b[0m\u001b[0margs\u001b[0m\u001b[1;33m,\u001b[0m \u001b[1;33m**\u001b[0m\u001b[0mkwargs\u001b[0m\u001b[1;33m)\u001b[0m\u001b[1;33m\u001b[0m\u001b[0m\n\u001b[1;32m---> 27\u001b[1;33m             \u001b[1;32mreturn\u001b[0m \u001b[0mmodel\u001b[0m\u001b[1;33m.\u001b[0m\u001b[0mVar\u001b[0m\u001b[1;33m(\u001b[0m\u001b[0mname\u001b[0m\u001b[1;33m,\u001b[0m \u001b[0mdist\u001b[0m\u001b[1;33m,\u001b[0m \u001b[0mdata\u001b[0m\u001b[1;33m)\u001b[0m\u001b[1;33m\u001b[0m\u001b[0m\n\u001b[0m\u001b[0;32m     28\u001b[0m         \u001b[1;32melif\u001b[0m \u001b[0mname\u001b[0m \u001b[1;32mis\u001b[0m \u001b[1;32mNone\u001b[0m\u001b[1;33m:\u001b[0m\u001b[1;33m\u001b[0m\u001b[0m\n\u001b[0;32m     29\u001b[0m             \u001b[1;32mreturn\u001b[0m \u001b[0mobject\u001b[0m\u001b[1;33m.\u001b[0m\u001b[0m__new__\u001b[0m\u001b[1;33m(\u001b[0m\u001b[0mcls\u001b[0m\u001b[1;33m)\u001b[0m  \u001b[1;31m# for pickle\u001b[0m\u001b[1;33m\u001b[0m\u001b[0m\n",
      "\u001b[1;32m/home/daniel/anaconda3/lib/python3.5/site-packages/pymc3/model.py\u001b[0m in \u001b[0;36mVar\u001b[1;34m(self, name, dist, data)\u001b[0m\n\u001b[0;32m    283\u001b[0m         \u001b[1;32mif\u001b[0m \u001b[0mdata\u001b[0m \u001b[1;32mis\u001b[0m \u001b[1;32mNone\u001b[0m\u001b[1;33m:\u001b[0m\u001b[1;33m\u001b[0m\u001b[0m\n\u001b[0;32m    284\u001b[0m             \u001b[1;32mif\u001b[0m \u001b[0mgetattr\u001b[0m\u001b[1;33m(\u001b[0m\u001b[0mdist\u001b[0m\u001b[1;33m,\u001b[0m \u001b[1;34m\"transform\"\u001b[0m\u001b[1;33m,\u001b[0m \u001b[1;32mNone\u001b[0m\u001b[1;33m)\u001b[0m \u001b[1;32mis\u001b[0m \u001b[1;32mNone\u001b[0m\u001b[1;33m:\u001b[0m\u001b[1;33m\u001b[0m\u001b[0m\n\u001b[1;32m--> 285\u001b[1;33m                 \u001b[0mvar\u001b[0m \u001b[1;33m=\u001b[0m \u001b[0mFreeRV\u001b[0m\u001b[1;33m(\u001b[0m\u001b[0mname\u001b[0m\u001b[1;33m=\u001b[0m\u001b[0mname\u001b[0m\u001b[1;33m,\u001b[0m \u001b[0mdistribution\u001b[0m\u001b[1;33m=\u001b[0m\u001b[0mdist\u001b[0m\u001b[1;33m,\u001b[0m \u001b[0mmodel\u001b[0m\u001b[1;33m=\u001b[0m\u001b[0mself\u001b[0m\u001b[1;33m)\u001b[0m\u001b[1;33m\u001b[0m\u001b[0m\n\u001b[0m\u001b[0;32m    286\u001b[0m                 \u001b[0mself\u001b[0m\u001b[1;33m.\u001b[0m\u001b[0mfree_RVs\u001b[0m\u001b[1;33m.\u001b[0m\u001b[0mappend\u001b[0m\u001b[1;33m(\u001b[0m\u001b[0mvar\u001b[0m\u001b[1;33m)\u001b[0m\u001b[1;33m\u001b[0m\u001b[0m\n\u001b[0;32m    287\u001b[0m             \u001b[1;32melse\u001b[0m\u001b[1;33m:\u001b[0m\u001b[1;33m\u001b[0m\u001b[0m\n",
      "\u001b[1;32m/home/daniel/anaconda3/lib/python3.5/site-packages/pymc3/model.py\u001b[0m in \u001b[0;36m__init__\u001b[1;34m(self, type, owner, index, name, distribution, model)\u001b[0m\n\u001b[0;32m    512\u001b[0m             self.tag.test_value = np.ones(\n\u001b[0;32m    513\u001b[0m                 distribution.shape, distribution.dtype) * distribution.default()\n\u001b[1;32m--> 514\u001b[1;33m             \u001b[0mself\u001b[0m\u001b[1;33m.\u001b[0m\u001b[0mlogp_elemwiset\u001b[0m \u001b[1;33m=\u001b[0m \u001b[0mdistribution\u001b[0m\u001b[1;33m.\u001b[0m\u001b[0mlogp\u001b[0m\u001b[1;33m(\u001b[0m\u001b[0mself\u001b[0m\u001b[1;33m)\u001b[0m\u001b[1;33m\u001b[0m\u001b[0m\n\u001b[0m\u001b[0;32m    515\u001b[0m             \u001b[0mself\u001b[0m\u001b[1;33m.\u001b[0m\u001b[0mmodel\u001b[0m \u001b[1;33m=\u001b[0m \u001b[0mmodel\u001b[0m\u001b[1;33m\u001b[0m\u001b[0m\n\u001b[0;32m    516\u001b[0m \u001b[1;33m\u001b[0m\u001b[0m\n",
      "\u001b[1;31mTypeError\u001b[0m: 'list' object is not callable"
     ]
    }
   ],
   "source": [
    "model = pm.Model()\n",
    "with pm.Model() as model:\n",
    "    strength = pm.Normal('strength',\n",
    "                        mu = 500,\n",
    "                        tau = 1/(150**2),\n",
    "                        shape=(num_teams, num_seasons))\n",
    "    \n",
    "    def get_mus(side, strength=strength, season=season, team_home=team_home, team_away=team_away):\n",
    "        mus = []\n",
    "        for i in range(num_games):\n",
    "            if side == 'home':\n",
    "                mu = strength[team_home[i], season[i]]\n",
    "            elif side == 'away':\n",
    "                mu = strength[team_away[i], season[i]]\n",
    "            mus.append(mu)\n",
    "        return mus\n",
    "    \n",
    "    perf_home = pm.MvNormal('perf_home',\n",
    "                            mu=pm.DensityDist('home_mus', get_mus('home')),\n",
    "                            tau=(1/(150**2))*np.eye(num_games),\n",
    "                            shape=num_games)\n",
    "    \n",
    "    perf_away = pm.MvNormal('perf_away',\n",
    "                            mu=pm.DensityDist('away_mus', get_mus('away')),\n",
    "                            tau=(1/(150**2))*np.eye(num_games),\n",
    "                            shape=num_games)\n",
    "    \n",
    "    per_won_home = pm.Deterministic('per_won_home', perf_home() / (perf_home() + perf_away()))"
   ]
  },
  {
   "cell_type": "code",
   "execution_count": null,
   "metadata": {
    "collapsed": false
   },
   "outputs": [],
   "source": [
    "print(range(num_games))"
   ]
  },
  {
   "cell_type": "code",
   "execution_count": null,
   "metadata": {
    "collapsed": false
   },
   "outputs": [],
   "source": [
    "with model:\n",
    "    \n",
    "    start = pm.find_MAP()\n",
    "    step = pm.NUTS(state=start)\n",
    "    trace = pm.sample(2000, step, start=start)\n",
    "    \n",
    "    pm.traceplot(trace)"
   ]
  }
 ],
 "metadata": {
  "anaconda-cloud": {},
  "kernelspec": {
   "display_name": "Python [Root]",
   "language": "python",
   "name": "Python [Root]"
  },
  "language_info": {
   "codemirror_mode": {
    "name": "ipython",
    "version": 3
   },
   "file_extension": ".py",
   "mimetype": "text/x-python",
   "name": "python",
   "nbconvert_exporter": "python",
   "pygments_lexer": "ipython3",
   "version": "3.5.2"
  }
 },
 "nbformat": 4,
 "nbformat_minor": 0
}
